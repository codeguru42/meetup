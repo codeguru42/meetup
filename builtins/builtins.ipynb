{
 "cells": [
  {
   "cell_type": "markdown",
   "metadata": {
    "collapsed": true
   },
   "source": [
    "Python `builtins` module\n",
    "-"
   ]
  },
  {
   "cell_type": "markdown",
   "metadata": {},
   "source": [
    "**abs()** - Absolute value"
   ]
  },
  {
   "cell_type": "code",
   "execution_count": 2,
   "metadata": {},
   "outputs": [
    {
     "name": "stdout",
     "output_type": "stream",
     "text": [
      "a: 42\nb: 42\n"
     ]
    }
   ],
   "source": [
    "a = abs(42)\n",
    "print('a:', a)\n",
    "b = abs(-42)\n",
    "print('b:', b)"
   ]
  },
  {
   "cell_type": "markdown",
   "metadata": {},
   "source": [
    "**all()** - Return `True` if all elements of the iterable are true"
   ]
  },
  {
   "cell_type": "code",
   "execution_count": 7,
   "metadata": {},
   "outputs": [
    {
     "name": "stdout",
     "output_type": "stream",
     "text": [
      "x: True\ny: False\nz: True\n"
     ]
    }
   ],
   "source": [
    "x = all([True, True, True])\n",
    "y = all([True, False, True])\n",
    "z = all([x >= 5 for x in range(5, 10)])\n",
    "print('x:', x)\n",
    "print('y:', y)\n",
    "print('z:', z)"
   ]
  },
  {
   "cell_type": "markdown",
   "metadata": {},
   "source": [
    "**any()** - Return `True` if any elements of the iterable are true"
   ]
  },
  {
   "cell_type": "code",
   "execution_count": 11,
   "metadata": {},
   "outputs": [
    {
     "name": "stdout",
     "output_type": "stream",
     "text": [
      "x: True\ny: True\nz: True\n"
     ]
    }
   ],
   "source": [
    "x = any([True, True, True])\n",
    "y = any([True, False, True])\n",
    "z = any([x >= 8 for x in range(5, 10)])\n",
    "print('x:', x)\n",
    "print('y:', y)\n",
    "print('z:', z)"
   ]
  },
  {
   "cell_type": "markdown",
   "metadata": {},
   "source": [
    "**ascii()** -  return a string containing a printable representation of an object, but escape the non-ASCII characters in the string"
   ]
  },
  {
   "cell_type": "code",
   "execution_count": 15,
   "metadata": {},
   "outputs": [
    {
     "name": "stdout",
     "output_type": "stream",
     "text": [
      "'Code Guru'\n'\\U0001f600\\U0001f601\\U0001f602'\n"
     ]
    }
   ],
   "source": [
    "print(ascii('Code Guru'))\n",
    "print(ascii('😀😁😂'))"
   ]
  },
  {
   "cell_type": "markdown",
   "metadata": {},
   "source": [
    "**bin()** - convert an integer number to a binary string prefixed with \"0b\""
   ]
  },
  {
   "cell_type": "code",
   "execution_count": 17,
   "metadata": {},
   "outputs": [
    {
     "name": "stdout",
     "output_type": "stream",
     "text": [
      "0b11\n-0b1010\n"
     ]
    }
   ],
   "source": [
    "print(bin(3))\n",
    "print(bin(-10))"
   ]
  },
  {
   "cell_type": "markdown",
   "metadata": {},
   "source": [
    "**bool()** - Return a Boolean value, i.e. one of True or False."
   ]
  },
  {
   "cell_type": "code",
   "execution_count": 19,
   "metadata": {},
   "outputs": [
    {
     "name": "stdout",
     "output_type": "stream",
     "text": [
      "False\nTrue\nFalse\nTrue\nFalse\nTrue\nTrue\n"
     ]
    }
   ],
   "source": [
    "print(bool(False))\n",
    "print(bool(True))\n",
    "print(bool([]))\n",
    "print(bool([1, 2, 3]))\n",
    "print(bool(''))\n",
    "print(bool('True'))\n",
    "print(bool('False'))"
   ]
  },
  {
   "cell_type": "markdown",
   "metadata": {},
   "source": [
    "**bytearray()** - Return a new array of bytes."
   ]
  },
  {
   "cell_type": "code",
   "execution_count": 23,
   "metadata": {},
   "outputs": [
    {
     "name": "stdout",
     "output_type": "stream",
     "text": [
      "bytearray(b'')\nbytearray(b'Code Apprentice')\nbytearray(b'\\x00\\x00\\x00\\x00\\x00\\x00\\x00\\x00\\x00\\x00\\x00\\x00\\x00\\x00\\x00\\x00\\x00\\x00\\x00\\x00\\x00\\x00\\x00\\x00\\x00\\x00\\x00\\x00\\x00\\x00\\x00\\x00')\nbytearray(b'\\x04\\x08\\x0f\\x10\\x17*')\n"
     ]
    }
   ],
   "source": [
    "print(bytearray())\n",
    "print(bytearray('Code Apprentice', 'utf-8'))\n",
    "print(bytearray(32))\n",
    "print(bytearray([4, 8, 15, 16, 23, 42]))"
   ]
  },
  {
   "cell_type": "markdown",
   "metadata": {},
   "source": [
    "**bytes()** - Return an immutable sequence of integers in the range 0 <= x < 256"
   ]
  },
  {
   "cell_type": "code",
   "execution_count": 24,
   "metadata": {},
   "outputs": [
    {
     "name": "stdout",
     "output_type": "stream",
     "text": [
      "b''\nb'Code Apprentice'\nb'\\x00\\x00\\x00\\x00\\x00\\x00\\x00\\x00\\x00\\x00\\x00\\x00\\x00\\x00\\x00\\x00\\x00\\x00\\x00\\x00\\x00\\x00\\x00\\x00\\x00\\x00\\x00\\x00\\x00\\x00\\x00\\x00'\nb'\\x04\\x08\\x0f\\x10\\x17*'\n"
     ]
    }
   ],
   "source": [
    "print(bytes())\n",
    "print(bytes('Code Apprentice', 'utf-8'))\n",
    "print(bytes(32))\n",
    "print(bytes([4, 8, 15, 16, 23, 42]))"
   ]
  },
  {
   "cell_type": "markdown",
   "metadata": {},
   "source": [
    "**callable()** - Return `True` if the object argument appears callable, `False` if not."
   ]
  },
  {
   "cell_type": "code",
   "execution_count": 25,
   "metadata": {},
   "outputs": [
    {
     "name": "stdout",
     "output_type": "stream",
     "text": [
      "True\nFalse\nTrue\nFalse\n"
     ]
    }
   ],
   "source": [
    "def foo():\n",
    "    pass\n",
    "\n",
    "\n",
    "bar = lambda x: x\n",
    "print(callable(foo))\n",
    "print(callable(5))\n",
    "print(callable(bar))\n",
    "print(callable('foobar'))"
   ]
  },
  {
   "cell_type": "markdown",
   "metadata": {},
   "source": [
    "**chr()** - Return the string representing a character with the given Unicode code point."
   ]
  },
  {
   "cell_type": "code",
   "execution_count": 26,
   "metadata": {},
   "outputs": [
    {
     "name": "stdout",
     "output_type": "stream",
     "text": [
      "a\n€\n"
     ]
    }
   ],
   "source": [
    "print(chr(97))\n",
    "print(chr(8364))"
   ]
  },
  {
   "cell_type": "markdown",
   "metadata": {},
   "source": [
    "**compile()** - Compile the given source into a code or AST object. "
   ]
  },
  {
   "cell_type": "markdown",
   "metadata": {},
   "source": [
    "**complex()** - Return a complex number with the value real + imag*1j or convert a string or number to a complex number."
   ]
  },
  {
   "cell_type": "code",
   "execution_count": 30,
   "metadata": {},
   "outputs": [
    {
     "name": "stdout",
     "output_type": "stream",
     "text": [
      "(1+2j)\n-1j\n(2+0j)\n"
     ]
    }
   ],
   "source": [
    "print(complex(1, 2))\n",
    "print(complex('-j')) # pythonistas must be electrical engineers\n",
    "print(complex(2))"
   ]
  },
  {
   "cell_type": "markdown",
   "metadata": {},
   "source": [
    "**delattr()** - deletes the named attribute, provided the object allows it"
   ]
  },
  {
   "cell_type": "markdown",
   "metadata": {},
   "source": [
    "**dict()** - create a new dictionary"
   ]
  },
  {
   "cell_type": "code",
   "execution_count": 31,
   "metadata": {},
   "outputs": [
    {
     "name": "stdout",
     "output_type": "stream",
     "text": [
      "{}\n{'foo': 'foo', 'bar': 'bar'}\n{'foo': 'foo', 'bar': 'bar'}\n"
     ]
    }
   ],
   "source": [
    "print(dict())\n",
    "print(dict(foo='foo', bar='bar'))\n",
    "print(dict([('foo', 'foo'), ('bar', 'bar')]))"
   ]
  }
 ],
 "metadata": {
  "kernelspec": {
   "display_name": "Python 2",
   "language": "python",
   "name": "python2"
  },
  "language_info": {
   "codemirror_mode": {
    "name": "ipython",
    "version": 2
   },
   "file_extension": ".py",
   "mimetype": "text/x-python",
   "name": "python",
   "nbconvert_exporter": "python",
   "pygments_lexer": "ipython2",
   "version": "2.7.6"
  }
 },
 "nbformat": 4,
 "nbformat_minor": 0
}
