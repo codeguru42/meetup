{
 "cells": [
  {
   "cell_type": "markdown",
   "metadata": {
    "collapsed": true
   },
   "source": [
    "Python `builtins` module\n",
    "-"
   ]
  },
  {
   "cell_type": "markdown",
   "metadata": {},
   "source": [
    "**abs()** - Absolute value"
   ]
  },
  {
   "cell_type": "code",
   "execution_count": 2,
   "metadata": {},
   "outputs": [
    {
     "name": "stdout",
     "output_type": "stream",
     "text": [
      "a: 42\nb: 42\n"
     ]
    }
   ],
   "source": [
    "a = abs(42)\n",
    "print('a:', a)\n",
    "b = abs(-42)\n",
    "print('b:', b)"
   ]
  },
  {
   "cell_type": "markdown",
   "metadata": {},
   "source": [
    "**all()** - Return `True` if all elements of the iterable are true"
   ]
  },
  {
   "cell_type": "code",
   "execution_count": 7,
   "metadata": {},
   "outputs": [
    {
     "name": "stdout",
     "output_type": "stream",
     "text": [
      "x: True\ny: False\nz: True\n"
     ]
    }
   ],
   "source": [
    "x = all([True, True, True])\n",
    "y = all([True, False, True])\n",
    "z = all([x >= 5 for x in range(5, 10)])\n",
    "print('x:', x)\n",
    "print('y:', y)\n",
    "print('z:', z)"
   ]
  },
  {
   "cell_type": "markdown",
   "metadata": {},
   "source": [
    "**any()** - Return `True` if any elements of the iterable are true"
   ]
  },
  {
   "cell_type": "code",
   "execution_count": 11,
   "metadata": {},
   "outputs": [
    {
     "name": "stdout",
     "output_type": "stream",
     "text": [
      "x: True\ny: True\nz: True\n"
     ]
    }
   ],
   "source": [
    "x = any([True, True, True])\n",
    "y = any([True, False, True])\n",
    "z = any([x >= 8 for x in range(5, 10)])\n",
    "print('x:', x)\n",
    "print('y:', y)\n",
    "print('z:', z)"
   ]
  },
  {
   "cell_type": "markdown",
   "metadata": {},
   "source": [
    "**ascii()** -  return a string containing a printable representation of an object, but escape the non-ASCII characters in the string"
   ]
  },
  {
   "cell_type": "code",
   "execution_count": 14,
   "metadata": {},
   "outputs": [
    {
     "name": "stdout",
     "output_type": "stream",
     "text": [
      "'Code Guru'\n'\\U0001f600 \\U0001f601 \\U0001f602 '\n"
     ]
    }
   ],
   "source": [
    "print(ascii('Code Guru'))\n",
    "print(ascii('😀😁😂'))"
   ]
  }
 ],
 "metadata": {
  "kernelspec": {
   "display_name": "Python 2",
   "language": "python",
   "name": "python2"
  },
  "language_info": {
   "codemirror_mode": {
    "name": "ipython",
    "version": 2
   },
   "file_extension": ".py",
   "mimetype": "text/x-python",
   "name": "python",
   "nbconvert_exporter": "python",
   "pygments_lexer": "ipython2",
   "version": "2.7.6"
  }
 },
 "nbformat": 4,
 "nbformat_minor": 0
}
